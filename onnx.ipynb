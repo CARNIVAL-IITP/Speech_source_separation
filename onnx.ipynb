{
 "cells": [
  {
   "cell_type": "code",
   "execution_count": 1,
   "metadata": {},
   "outputs": [
    {
     "name": "stdout",
     "output_type": "stream",
     "text": [
      "torch.Size([1, 47199])\n"
     ]
    },
    {
     "name": "stderr",
     "output_type": "stream",
     "text": [
      "/home/yhjeon/anaconda3/envs/denoiser2/lib/python3.8/site-packages/torch/functional.py:650: UserWarning: stft with return_complex=False is deprecated. In a future pytorch release, stft will return complex tensors for all inputs, and return_complex=False will raise an error.\n",
      "Note: you can still call torch.view_as_real on the complex output to recover the old return format. (Triggered internally at ../aten/src/ATen/native/SpectralOps.cpp:863.)\n",
      "  return _VF.stft(input, n_fft, hop_length, win_length, window,  # type: ignore[attr-defined]\n"
     ]
    }
   ],
   "source": [
    "import os\n",
    "import matplotlib.pyplot as plt\n",
    "import soundfile as sf\n",
    "\n",
    "import torch\n",
    "from models.AGC_endtoend_r1.model import AGC_STFT_GRU\n",
    "\n",
    "import io\n",
    "import numpy as np\n",
    "\n",
    "model = AGC_STFT_GRU(160, 40, 160, 80)\n",
    "model = model.to('cpu')\n",
    "model.eval()\n",
    "\n",
    "state_dict = torch.load('/home/yhjeon/projects/IITP_SE/NS_AGC/models/AGC_endtoend_r1/trained_ckpts/default.pth.tar', map_location='cpu')\n",
    "model.load_state_dict(state_dict['state_dict'])\n",
    "model = model.to('cpu')\n",
    "x, _ = sf.read('/home/yhjeon/projects/IITP_SE/NS_AGC/data/SITEC_AGC/test/distorted/distorted_2_29464_19759_0.21687061174858996.wav')\n",
    "x = torch.FloatTensor(x)\n",
    "x = x.to('cpu').unsqueeze(0)\n",
    "print(x.shape)\n",
    "\n",
    "hidden = torch.zeros([1, 1, 40])\n",
    "\n",
    "torch_out, hidden_out = model(x, hidden)\n",
    "\n",
    "\n",
    "\n",
    "# torch.onnx.export(model, x, \"test.onnx\", export_params=True, opset_version=10, do_constant_folding=True, input_names=['input'], \n",
    "#                   output_names=['output'], dynamic_axes={'input' : {0: 'batch_size', 1:'seq_len'}, 'output':{0: 'batch_size', 1:'seq_len'}})"
   ]
  },
  {
   "cell_type": "code",
   "execution_count": 2,
   "metadata": {},
   "outputs": [
    {
     "name": "stdout",
     "output_type": "stream",
     "text": [
      "Exported graph: graph(%input : Float(*, *, strides=[47199, 1], requires_grad=0, device=cpu),\n",
      "      %input_hidden : Float(*, 1, 40, strides=[40, 40, 1], requires_grad=0, device=cpu),\n",
      "      %lin.bias : Float(1, strides=[1], requires_grad=1, device=cpu),\n",
      "      %onnx::GRU_154 : Float(1, 120, 81, strides=[9720, 81, 1], requires_grad=0, device=cpu),\n",
      "      %onnx::GRU_155 : Float(1, 120, 40, strides=[4800, 40, 1], requires_grad=0, device=cpu),\n",
      "      %onnx::GRU_156 : Float(1, 240, strides=[240, 1], requires_grad=0, device=cpu),\n",
      "      %onnx::MatMul_157 : Float(40, 1, strides=[1, 40], requires_grad=0, device=cpu)):\n",
      "  %/Constant_output_0 : Long(device=cpu) = onnx::Constant[value={1}, onnx_name=\"/Constant\"](), scope: models.AGC_endtoend_r1.model.AGC_STFT_GRU::\n",
      "  %/Constant_1_output_0 : Long(1, strides=[1], requires_grad=0, device=cpu) = onnx::Constant[value={1}, onnx_name=\"/Constant_1\"](), scope: models.AGC_endtoend_r1.model.AGC_STFT_GRU:: # /home/yhjeon/projects/IITP_SE/NS_AGC/models/AGC_endtoend_r1/model.py:31:0\n",
      "  %/Constant_2_output_0 : Long(1, strides=[1], requires_grad=0, device=cpu) = onnx::Constant[value={-80}, onnx_name=\"/Constant_2\"](), scope: models.AGC_endtoend_r1.model.AGC_STFT_GRU:: # /home/yhjeon/projects/IITP_SE/NS_AGC/models/AGC_endtoend_r1/model.py:31:0\n",
      "  %/Constant_3_output_0 : Long(1, strides=[1], requires_grad=0, device=cpu) = onnx::Constant[value={9223372036854775807}, onnx_name=\"/Constant_3\"](), scope: models.AGC_endtoend_r1.model.AGC_STFT_GRU:: # /home/yhjeon/projects/IITP_SE/NS_AGC/models/AGC_endtoend_r1/model.py:31:0\n",
      "  %/Constant_4_output_0 : Long(1, strides=[1], requires_grad=0, device=cpu) = onnx::Constant[value={1}, onnx_name=\"/Constant_4\"](), scope: models.AGC_endtoend_r1.model.AGC_STFT_GRU:: # /home/yhjeon/projects/IITP_SE/NS_AGC/models/AGC_endtoend_r1/model.py:31:0\n",
      "  %/Slice_output_0 : Float(*, *, strides=[47199, 1], requires_grad=0, device=cpu) = onnx::Slice[onnx_name=\"/Slice\"](%input, %/Constant_2_output_0, %/Constant_3_output_0, %/Constant_1_output_0, %/Constant_4_output_0), scope: models.AGC_endtoend_r1.model.AGC_STFT_GRU:: # /home/yhjeon/projects/IITP_SE/NS_AGC/models/AGC_endtoend_r1/model.py:31:0\n",
      "  %/Constant_5_output_0 : Long(device=cpu) = onnx::Constant[value={80}, onnx_name=\"/Constant_5\"](), scope: models.AGC_endtoend_r1.model.AGC_STFT_GRU:: # /home/yhjeon/anaconda3/envs/denoiser2/lib/python3.8/site-packages/torch/functional.py:650:0\n",
      "  %/Constant_6_output_0 : Long(device=cpu) = onnx::Constant[value={160}, onnx_name=\"/Constant_6\"](), scope: models.AGC_endtoend_r1.model.AGC_STFT_GRU:: # /home/yhjeon/anaconda3/envs/denoiser2/lib/python3.8/site-packages/torch/functional.py:650:0\n",
      "  %/Constant_7_output_0 : Float(160, strides=[1], requires_grad=0, device=cpu) = onnx::Constant[value=<Tensor>, onnx_name=\"/Constant_7\"](), scope: models.AGC_endtoend_r1.model.AGC_STFT_GRU:: # /home/yhjeon/anaconda3/envs/denoiser2/lib/python3.8/site-packages/torch/functional.py:650:0\n",
      "  %/STFT_output_0 : FloatTensor(device=cpu) = onnx::STFT[onesided=1, onnx_name=\"/STFT\"](%input, %/Constant_5_output_0, %/Constant_7_output_0, %/Constant_6_output_0), scope: models.AGC_endtoend_r1.model.AGC_STFT_GRU:: # /home/yhjeon/anaconda3/envs/denoiser2/lib/python3.8/site-packages/torch/functional.py:650:0\n",
      "  %/Transpose_output_0 : Float(*, *, *, *, strides=[95256, 2, 162, 1], requires_grad=0, device=cpu) = onnx::Transpose[perm=[0, 2, 1, 3], onnx_name=\"/Transpose\"](%/STFT_output_0), scope: models.AGC_endtoend_r1.model.AGC_STFT_GRU:: # /home/yhjeon/anaconda3/envs/denoiser2/lib/python3.8/site-packages/torch/functional.py:650:0\n",
      "  %/Constant_8_output_0 : Long(device=cpu) = onnx::Constant[value={0}, onnx_name=\"/Constant_8\"](), scope: models.AGC_endtoend_r1.model.AGC_STFT_GRU::\n",
      "  %/Gather_output_0 : Float(*, *, *, strides=[95256, 2, 1], requires_grad=0, device=cpu) = onnx::Gather[axis=2, onnx_name=\"/Gather\"](%/Transpose_output_0, %/Constant_output_0), scope: models.AGC_endtoend_r1.model.AGC_STFT_GRU:: # /home/yhjeon/projects/IITP_SE/NS_AGC/models/AGC_endtoend_r1/model.py:38:0\n",
      "  %/Constant_9_output_0 : Long(1, strides=[1], device=cpu) = onnx::Constant[value={2}, onnx_name=\"/Constant_9\"](), scope: models.AGC_endtoend_r1.model.AGC_STFT_GRU:: # /home/yhjeon/projects/IITP_SE/NS_AGC/models/AGC_endtoend_r1/model.py:39:0\n",
      "  %/Unsqueeze_output_0 : Float(*, *, 1, *, strides=[95256, 2, 2, 1], requires_grad=0, device=cpu) = onnx::Unsqueeze[onnx_name=\"/Unsqueeze\"](%/Gather_output_0, %/Constant_9_output_0), scope: models.AGC_endtoend_r1.model.AGC_STFT_GRU:: # /home/yhjeon/projects/IITP_SE/NS_AGC/models/AGC_endtoend_r1/model.py:39:0\n",
      "  %/Gather_1_output_0 : Float(*, *, 1, strides=[95256, 2, 2], requires_grad=0, device=cpu) = onnx::Gather[axis=3, onnx_name=\"/Gather_1\"](%/Unsqueeze_output_0, %/Constant_8_output_0), scope: models.AGC_endtoend_r1.model.AGC_STFT_GRU:: # /home/yhjeon/projects/IITP_SE/NS_AGC/models/AGC_endtoend_r1/model.py:42:0\n",
      "  %/Gather_2_output_0 : Float(*, *, 1, strides=[95256, 2, 2], requires_grad=0, device=cpu) = onnx::Gather[axis=3, onnx_name=\"/Gather_2\"](%/Unsqueeze_output_0, %/Constant_output_0), scope: models.AGC_endtoend_r1.model.AGC_STFT_GRU:: # /home/yhjeon/projects/IITP_SE/NS_AGC/models/AGC_endtoend_r1/model.py:42:0\n",
      "  %/Mul_output_0 : Float(*, *, 1, strides=[81, 1, 1], requires_grad=0, device=cpu) = onnx::Mul[onnx_name=\"/Mul\"](%/Gather_1_output_0, %/Gather_1_output_0), scope: models.AGC_endtoend_r1.model.AGC_STFT_GRU:: # /home/yhjeon/projects/IITP_SE/NS_AGC/models/AGC_endtoend_r1/model.py:43:0\n",
      "  %/Mul_1_output_0 : Float(*, *, 1, strides=[81, 1, 1], requires_grad=0, device=cpu) = onnx::Mul[onnx_name=\"/Mul_1\"](%/Gather_2_output_0, %/Gather_2_output_0), scope: models.AGC_endtoend_r1.model.AGC_STFT_GRU:: # /home/yhjeon/projects/IITP_SE/NS_AGC/models/AGC_endtoend_r1/model.py:43:0\n",
      "  %/Add_output_0 : Float(*, *, 1, strides=[81, 1, 1], requires_grad=0, device=cpu) = onnx::Add[onnx_name=\"/Add\"](%/Mul_output_0, %/Mul_1_output_0), scope: models.AGC_endtoend_r1.model.AGC_STFT_GRU:: # /home/yhjeon/projects/IITP_SE/NS_AGC/models/AGC_endtoend_r1/model.py:43:0\n",
      "  %/Sqrt_output_0 : Float(*, *, 1, strides=[81, 1, 1], requires_grad=0, device=cpu) = onnx::Sqrt[onnx_name=\"/Sqrt\"](%/Add_output_0), scope: models.AGC_endtoend_r1.model.AGC_STFT_GRU:: # /home/yhjeon/projects/IITP_SE/NS_AGC/models/AGC_endtoend_r1/model.py:43:0\n",
      "  %/gru/Transpose_output_0 : Float(1, *, *, device=cpu) = onnx::Transpose[perm=[2, 0, 1], onnx_name=\"/gru/Transpose\"](%/Sqrt_output_0), scope: models.AGC_endtoend_r1.model.AGC_STFT_GRU::/torch.nn.modules.rnn.GRU::gru # /home/yhjeon/anaconda3/envs/denoiser2/lib/python3.8/site-packages/torch/nn/modules/rnn.py:1102:0\n",
      "  %onnx::GRU_37 : Tensor? = prim::Constant(), scope: models.AGC_endtoend_r1.model.AGC_STFT_GRU::/torch.nn.modules.rnn.GRU::gru # /home/yhjeon/anaconda3/envs/denoiser2/lib/python3.8/site-packages/torch/nn/modules/rnn.py:1102:0\n",
      "  %/gru/GRU_output_0 : Float(1, 1, *, 40, device=cpu), %output_hidden : Float(1, *, 40, strides=[40, 40, 1], requires_grad=1, device=cpu) = onnx::GRU[hidden_size=40, linear_before_reset=1, onnx_name=\"/gru/GRU\"](%/gru/Transpose_output_0, %onnx::GRU_154, %onnx::GRU_155, %onnx::GRU_156, %onnx::GRU_37, %input_hidden), scope: models.AGC_endtoend_r1.model.AGC_STFT_GRU::/torch.nn.modules.rnn.GRU::gru # /home/yhjeon/anaconda3/envs/denoiser2/lib/python3.8/site-packages/torch/nn/modules/rnn.py:1102:0\n",
      "  %/gru/Constant_output_0 : Long(1, strides=[1], device=cpu) = onnx::Constant[value={1}, onnx_name=\"/gru/Constant\"](), scope: models.AGC_endtoend_r1.model.AGC_STFT_GRU::/torch.nn.modules.rnn.GRU::gru # /home/yhjeon/anaconda3/envs/denoiser2/lib/python3.8/site-packages/torch/nn/modules/rnn.py:1102:0\n",
      "  %/gru/Squeeze_output_0 : Float(1, *, 40, device=cpu) = onnx::Squeeze[onnx_name=\"/gru/Squeeze\"](%/gru/GRU_output_0, %/gru/Constant_output_0), scope: models.AGC_endtoend_r1.model.AGC_STFT_GRU::/torch.nn.modules.rnn.GRU::gru # /home/yhjeon/anaconda3/envs/denoiser2/lib/python3.8/site-packages/torch/nn/modules/rnn.py:1102:0\n",
      "  %/gru/Transpose_1_output_0 : Float(*, 1, 40, strides=[40, 40, 1], requires_grad=1, device=cpu) = onnx::Transpose[perm=[1, 0, 2], onnx_name=\"/gru/Transpose_1\"](%/gru/Squeeze_output_0), scope: models.AGC_endtoend_r1.model.AGC_STFT_GRU::/torch.nn.modules.rnn.GRU::gru # /home/yhjeon/anaconda3/envs/denoiser2/lib/python3.8/site-packages/torch/nn/modules/rnn.py:1102:0\n",
      "  %/relu/Relu_output_0 : Float(*, 1, 40, strides=[40, 40, 1], requires_grad=1, device=cpu) = onnx::Relu[onnx_name=\"/relu/Relu\"](%/gru/Transpose_1_output_0), scope: models.AGC_endtoend_r1.model.AGC_STFT_GRU::/torch.nn.modules.activation.ReLU::relu # /home/yhjeon/anaconda3/envs/denoiser2/lib/python3.8/site-packages/torch/nn/functional.py:1471:0\n",
      "  %/lin/MatMul_output_0 : Float(*, 1, 1, device=cpu) = onnx::MatMul[onnx_name=\"/lin/MatMul\"](%/relu/Relu_output_0, %onnx::MatMul_157), scope: models.AGC_endtoend_r1.model.AGC_STFT_GRU::/torch.nn.modules.linear.Linear::lin # /home/yhjeon/anaconda3/envs/denoiser2/lib/python3.8/site-packages/torch/nn/modules/linear.py:114:0\n",
      "  %/lin/Add_output_0 : Float(*, 1, 1, strides=[1, 1, 1], requires_grad=1, device=cpu) = onnx::Add[onnx_name=\"/lin/Add\"](%lin.bias, %/lin/MatMul_output_0), scope: models.AGC_endtoend_r1.model.AGC_STFT_GRU::/torch.nn.modules.linear.Linear::lin # /home/yhjeon/anaconda3/envs/denoiser2/lib/python3.8/site-packages/torch/nn/modules/linear.py:114:0\n",
      "  %/Gather_3_output_0 : Float(*, 1, strides=[1, 1], requires_grad=1, device=cpu) = onnx::Gather[axis=2, onnx_name=\"/Gather_3\"](%/lin/Add_output_0, %/Constant_8_output_0), scope: models.AGC_endtoend_r1.model.AGC_STFT_GRU:: # /home/yhjeon/projects/IITP_SE/NS_AGC/models/AGC_endtoend_r1/model.py:52:0\n",
      "  %/Constant_10_output_0 : Long(1, strides=[1], device=cpu) = onnx::Constant[value={1}, onnx_name=\"/Constant_10\"](), scope: models.AGC_endtoend_r1.model.AGC_STFT_GRU:: # /home/yhjeon/projects/IITP_SE/NS_AGC/models/AGC_endtoend_r1/model.py:53:0\n",
      "  %/Unsqueeze_1_output_0 : Float(*, 1, 1, strides=[1, 1, 1], requires_grad=1, device=cpu) = onnx::Unsqueeze[onnx_name=\"/Unsqueeze_1\"](%/Gather_3_output_0, %/Constant_10_output_0), scope: models.AGC_endtoend_r1.model.AGC_STFT_GRU:: # /home/yhjeon/projects/IITP_SE/NS_AGC/models/AGC_endtoend_r1/model.py:53:0\n",
      "  %/upsample/Constant_output_0 : Float(3, strides=[1], requires_grad=0, device=cpu) = onnx::Constant[value=  1   1  80 [ CPUFloatType{3} ], onnx_name=\"/upsample/Constant\"](), scope: models.AGC_endtoend_r1.model.AGC_STFT_GRU::/torch.nn.modules.upsampling.Upsample::upsample # /home/yhjeon/anaconda3/envs/denoiser2/lib/python3.8/site-packages/torch/nn/functional.py:3981:0\n",
      "  %onnx::Resize_112 : Tensor? = prim::Constant(), scope: models.AGC_endtoend_r1.model.AGC_STFT_GRU::/torch.nn.modules.upsampling.Upsample::upsample # /home/yhjeon/anaconda3/envs/denoiser2/lib/python3.8/site-packages/torch/nn/functional.py:3981:0\n",
      "  %/upsample/Resize_output_0 : Float(*, 1, 80, strides=[80, 80, 1], requires_grad=1, device=cpu) = onnx::Resize[coordinate_transformation_mode=\"asymmetric\", cubic_coeff_a=-0.75, mode=\"nearest\", nearest_mode=\"floor\", onnx_name=\"/upsample/Resize\"](%/Unsqueeze_1_output_0, %onnx::Resize_112, %/upsample/Constant_output_0), scope: models.AGC_endtoend_r1.model.AGC_STFT_GRU::/torch.nn.modules.upsampling.Upsample::upsample # /home/yhjeon/anaconda3/envs/denoiser2/lib/python3.8/site-packages/torch/nn/functional.py:3981:0\n",
      "  %/Constant_11_output_0 : Long(1, strides=[1], device=cpu) = onnx::Constant[value={1}, onnx_name=\"/Constant_11\"](), scope: models.AGC_endtoend_r1.model.AGC_STFT_GRU:: # /home/yhjeon/projects/IITP_SE/NS_AGC/models/AGC_endtoend_r1/model.py:55:0\n",
      "  %/Squeeze_output_0 : Float(*, 80, strides=[80, 1], requires_grad=1, device=cpu) = onnx::Squeeze[onnx_name=\"/Squeeze\"](%/upsample/Resize_output_0, %/Constant_11_output_0), scope: models.AGC_endtoend_r1.model.AGC_STFT_GRU:: # /home/yhjeon/projects/IITP_SE/NS_AGC/models/AGC_endtoend_r1/model.py:55:0\n",
      "  %/Shape_output_0 : Long(2, strides=[1], device=cpu) = onnx::Shape[onnx_name=\"/Shape\"](%/Slice_output_0), scope: models.AGC_endtoend_r1.model.AGC_STFT_GRU:: # /home/yhjeon/projects/IITP_SE/NS_AGC/models/AGC_endtoend_r1/model.py:56:0\n",
      "  %/Constant_12_output_0 : Long(device=cpu) = onnx::Constant[value={1}, onnx_name=\"/Constant_12\"](), scope: models.AGC_endtoend_r1.model.AGC_STFT_GRU:: # /home/yhjeon/projects/IITP_SE/NS_AGC/models/AGC_endtoend_r1/model.py:56:0\n",
      "  %/Gather_4_output_0 : Long(device=cpu) = onnx::Gather[axis=0, onnx_name=\"/Gather_4\"](%/Shape_output_0, %/Constant_12_output_0), scope: models.AGC_endtoend_r1.model.AGC_STFT_GRU:: # /home/yhjeon/projects/IITP_SE/NS_AGC/models/AGC_endtoend_r1/model.py:56:0\n",
      "  %/Constant_13_output_0 : Long(1, strides=[1], requires_grad=0, device=cpu) = onnx::Constant[value={1}, onnx_name=\"/Constant_13\"](), scope: models.AGC_endtoend_r1.model.AGC_STFT_GRU:: # /home/yhjeon/projects/IITP_SE/NS_AGC/models/AGC_endtoend_r1/model.py:56:0\n",
      "  %/Constant_14_output_0 : Long(1, strides=[1], requires_grad=0, device=cpu) = onnx::Constant[value={0}, onnx_name=\"/Constant_14\"](), scope: models.AGC_endtoend_r1.model.AGC_STFT_GRU:: # /home/yhjeon/projects/IITP_SE/NS_AGC/models/AGC_endtoend_r1/model.py:56:0\n",
      "  %/Constant_15_output_0 : Long(1, strides=[1], device=cpu) = onnx::Constant[value={0}, onnx_name=\"/Constant_15\"](), scope: models.AGC_endtoend_r1.model.AGC_STFT_GRU:: # /home/yhjeon/projects/IITP_SE/NS_AGC/models/AGC_endtoend_r1/model.py:56:0\n",
      "  %/Unsqueeze_2_output_0 : Long(1, strides=[1], device=cpu) = onnx::Unsqueeze[onnx_name=\"/Unsqueeze_2\"](%/Gather_4_output_0, %/Constant_15_output_0), scope: models.AGC_endtoend_r1.model.AGC_STFT_GRU:: # /home/yhjeon/projects/IITP_SE/NS_AGC/models/AGC_endtoend_r1/model.py:56:0\n",
      "  %/Constant_16_output_0 : Long(1, strides=[1], requires_grad=0, device=cpu) = onnx::Constant[value={1}, onnx_name=\"/Constant_16\"](), scope: models.AGC_endtoend_r1.model.AGC_STFT_GRU:: # /home/yhjeon/projects/IITP_SE/NS_AGC/models/AGC_endtoend_r1/model.py:56:0\n",
      "  %/Slice_1_output_0 : Float(*, *, strides=[80, 1], requires_grad=1, device=cpu) = onnx::Slice[onnx_name=\"/Slice_1\"](%/Squeeze_output_0, %/Constant_14_output_0, %/Unsqueeze_2_output_0, %/Constant_13_output_0, %/Constant_16_output_0), scope: models.AGC_endtoend_r1.model.AGC_STFT_GRU:: # /home/yhjeon/projects/IITP_SE/NS_AGC/models/AGC_endtoend_r1/model.py:56:0\n",
      "  %/Constant_17_output_0 : Float(requires_grad=0, device=cpu) = onnx::Constant[value={0.693147}, onnx_name=\"/Constant_17\"](), scope: models.AGC_endtoend_r1.model.AGC_STFT_GRU:: # /home/yhjeon/projects/IITP_SE/NS_AGC/models/AGC_endtoend_r1/model.py:58:0\n",
      "  %/Mul_2_output_0 : Float(*, *, strides=[80, 1], requires_grad=1, device=cpu) = onnx::Mul[onnx_name=\"/Mul_2\"](%/Slice_1_output_0, %/Constant_17_output_0), scope: models.AGC_endtoend_r1.model.AGC_STFT_GRU:: # /home/yhjeon/projects/IITP_SE/NS_AGC/models/AGC_endtoend_r1/model.py:58:0\n",
      "  %/Exp_output_0 : Float(*, *, strides=[80, 1], requires_grad=1, device=cpu) = onnx::Exp[onnx_name=\"/Exp\"](%/Mul_2_output_0), scope: models.AGC_endtoend_r1.model.AGC_STFT_GRU:: # /home/yhjeon/projects/IITP_SE/NS_AGC/models/AGC_endtoend_r1/model.py:58:0\n",
      "  %output : Float(*, *, strides=[80, 1], requires_grad=1, device=cpu) = onnx::Mul[onnx_name=\"/Mul_3\"](%/Slice_output_0, %/Exp_output_0), scope: models.AGC_endtoend_r1.model.AGC_STFT_GRU:: # /home/yhjeon/projects/IITP_SE/NS_AGC/models/AGC_endtoend_r1/model.py:60:0\n",
      "  return (%output, %output_hidden)\n",
      "\n"
     ]
    },
    {
     "name": "stderr",
     "output_type": "stream",
     "text": [
      "/home/yhjeon/anaconda3/envs/denoiser2/lib/python3.8/site-packages/torch/onnx/symbolic_opset9.py:4662: UserWarning: Exporting a model to ONNX with a batch_size other than 1, with a variable length with GRU can cause an error when running the ONNX model with a different batch size. Make sure to save the model with a batch size of 1, or define the initial states (h0/c0) as inputs of the model. \n",
      "  warnings.warn(\n"
     ]
    }
   ],
   "source": [
    "input_names = ['input', 'input_hidden']\n",
    "output_names = ['output', 'output_hidden']\n",
    "\n",
    "torch.onnx.export(model, (x, hidden), \"AGC_frame_h40.onnx\", verbose=True, input_names=input_names, \n",
    "                  output_names=output_names, dynamic_axes={'input' : {0: 'batch_size', 1:'seq_len'}, 'output':{0: 'batch_size', 1:'seq_len'}, 'input_hidden':{0: 'batch_size'}, 'output_hidden':{0: 'batch_size'}})\n"
   ]
  },
  {
   "cell_type": "code",
   "execution_count": 3,
   "metadata": {},
   "outputs": [],
   "source": [
    "import onnx\n",
    "\n",
    "onnx_model = onnx.load(\"AGC_frame_h40.onnx\")\n",
    "onnx.checker.check_model(onnx_model)"
   ]
  },
  {
   "cell_type": "code",
   "execution_count": 5,
   "metadata": {},
   "outputs": [
    {
     "name": "stdout",
     "output_type": "stream",
     "text": [
      "Exported model has been tested with ONNXRuntime, and the result looks good!\n"
     ]
    }
   ],
   "source": [
    "import onnxruntime\n",
    "\n",
    "ort_session = onnxruntime.InferenceSession(\"AGC_frame_h40.onnx\")\n",
    "\n",
    "def to_numpy(tensor):\n",
    "    return tensor.detach().cpu().numpy() if tensor.requires_grad else tensor.cpu().numpy()\n",
    "\n",
    "# ONNX 런타임에서 계산된 결과값\n",
    "ort_inputs = {ort_session.get_inputs()[0].name: to_numpy(x), ort_session.get_inputs()[1].name: to_numpy(hidden)}\n",
    "ort_outs = ort_session.run(None, ort_inputs)\n",
    "\n",
    "# ONNX 런타임과 PyTorch에서 연산된 결과값 비교\n",
    "np.testing.assert_allclose(to_numpy(torch_out), ort_outs[0], rtol=1e-03, atol=1e-05)\n",
    "np.testing.assert_allclose(to_numpy(hidden_out), ort_outs[1], rtol=1e-03, atol=1e-05)\n",
    "\n",
    "print(\"Exported model has been tested with ONNXRuntime, and the result looks good!\")\n",
    "\n"
   ]
  }
 ],
 "metadata": {
  "kernelspec": {
   "display_name": "denoiser",
   "language": "python",
   "name": "python3"
  },
  "language_info": {
   "codemirror_mode": {
    "name": "ipython",
    "version": 3
   },
   "file_extension": ".py",
   "mimetype": "text/x-python",
   "name": "python",
   "nbconvert_exporter": "python",
   "pygments_lexer": "ipython3",
   "version": "3.8.18"
  }
 },
 "nbformat": 4,
 "nbformat_minor": 2
}
